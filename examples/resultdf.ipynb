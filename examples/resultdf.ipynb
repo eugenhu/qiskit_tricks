{
 "cells": [
  {
   "cell_type": "markdown",
   "id": "c5de6806-a4d1-43bf-859b-0d17e1300853",
   "metadata": {
    "tags": []
   },
   "source": [
    "# Example usage of `resultdf()`"
   ]
  },
  {
   "cell_type": "code",
   "execution_count": 1,
   "id": "33d0aaa0-dbb9-4c00-8e07-e60f4c87c877",
   "metadata": {},
   "outputs": [],
   "source": [
    "import numpy as np\n",
    "import matplotlib.pyplot as plt\n",
    "\n",
    "from qiskit.circuit import ClassicalRegister, QuantumRegister, QuantumCircuit, Gate\n",
    "import qiskit.compiler\n",
    "import qiskit.pulse as qpulse\n",
    "\n",
    "from qiskit_tricks import resultdf"
   ]
  },
  {
   "cell_type": "markdown",
   "id": "409072a3-d8e1-4976-8936-50d64cf810ca",
   "metadata": {},
   "source": [
    "## Rabi experiment example"
   ]
  },
  {
   "cell_type": "code",
   "execution_count": 2,
   "id": "21342e39-5c3d-453f-ab57-3c5412ad9c7a",
   "metadata": {},
   "outputs": [],
   "source": [
    "from qiskit.providers.aer import PulseSimulator\n",
    "from qiskit.test.mock.backends.armonk.fake_armonk import FakeArmonk\n",
    "\n",
    "armonk = FakeArmonk()\n",
    "pulse_simulator = PulseSimulator(\n",
    "    armonk.configuration(),\n",
    "    armonk.properties(),\n",
    "    armonk.defaults(),\n",
    ")"
   ]
  },
  {
   "cell_type": "markdown",
   "id": "b4d75ae3-7b12-4161-97b1-ae47fa8ae91d",
   "metadata": {},
   "source": [
    "### Create the circuits"
   ]
  },
  {
   "cell_type": "code",
   "execution_count": 3,
   "id": "0085c04c-d32b-4401-8869-63812247ce06",
   "metadata": {},
   "outputs": [
    {
     "data": {
      "text/html": [
       "<pre style=\"word-wrap: normal;white-space: pre;background: #fff0;line-height: 1.1;font-family: &quot;Courier New&quot;,Courier,monospace\">     ┌──────────┐┌─┐\n",
       "  q: ┤ Rabi(-1) ├┤M├\n",
       "     └──────────┘└╥┘\n",
       "c: 1/═════════════╩═\n",
       "                  0 </pre>"
      ],
      "text/plain": [
       "     ┌──────────┐┌─┐\n",
       "  q: ┤ Rabi(-1) ├┤M├\n",
       "     └──────────┘└╥┘\n",
       "c: 1/═════════════╩═\n",
       "                  0 "
      ]
     },
     "execution_count": 3,
     "metadata": {},
     "output_type": "execute_result"
    }
   ],
   "source": [
    "amps = np.linspace(-1.0, 1.0)\n",
    "circuits = []\n",
    "\n",
    "for amp in amps:\n",
    "    circ = QuantumCircuit(1, 1)\n",
    "    \n",
    "    # Metadata fields will appear as additional levels in the dataframe index.\n",
    "    circ.metadata = {\n",
    "        'amp': amp,\n",
    "        'duration': 320,\n",
    "    }\n",
    "    \n",
    "    gate = Gate('Rabi', 1, [amp])\n",
    "    circ.append(gate, [0])\n",
    "    circ.measure(0, 0)\n",
    "    \n",
    "    with qpulse.build(pulse_simulator) as sched:\n",
    "        qpulse.play(qpulse.Gaussian(320, amp, 80), qpulse.DriveChannel(0))\n",
    "    \n",
    "    circ.add_calibration(gate, [0], sched, [amp])\n",
    "    \n",
    "    circuits.append(circ)\n",
    "\n",
    "circuits[0].draw()"
   ]
  },
  {
   "cell_type": "markdown",
   "id": "72a0e1c6-5344-4c17-a451-28596615a3b6",
   "metadata": {},
   "source": [
    "### Run the circuits"
   ]
  },
  {
   "cell_type": "code",
   "execution_count": 4,
   "id": "d109df7f-305e-4c22-9382-9ccca80d4db5",
   "metadata": {},
   "outputs": [],
   "source": [
    "rabi_job = pulse_simulator.run(circuits)"
   ]
  },
  {
   "cell_type": "markdown",
   "id": "7331d13a-3a03-47d4-8ac0-2b8ad1341cc7",
   "metadata": {},
   "source": [
    "### `resultdf()` with default arguments."
   ]
  },
  {
   "cell_type": "code",
   "execution_count": 5,
   "id": "0472f27f-2508-4eeb-a7a7-313a61819a6c",
   "metadata": {},
   "outputs": [
    {
     "data": {
      "text/html": [
       "<div>\n",
       "<style scoped>\n",
       "    .dataframe tbody tr th:only-of-type {\n",
       "        vertical-align: middle;\n",
       "    }\n",
       "\n",
       "    .dataframe tbody tr th {\n",
       "        vertical-align: top;\n",
       "    }\n",
       "\n",
       "    .dataframe thead th {\n",
       "        text-align: right;\n",
       "    }\n",
       "</style>\n",
       "<table border=\"1\" class=\"dataframe\">\n",
       "  <thead>\n",
       "    <tr style=\"text-align: right;\">\n",
       "      <th></th>\n",
       "      <th></th>\n",
       "      <th></th>\n",
       "      <th></th>\n",
       "      <th>count</th>\n",
       "    </tr>\n",
       "    <tr>\n",
       "      <th>job_id</th>\n",
       "      <th>amp</th>\n",
       "      <th>duration</th>\n",
       "      <th>state</th>\n",
       "      <th></th>\n",
       "    </tr>\n",
       "  </thead>\n",
       "  <tbody>\n",
       "    <tr>\n",
       "      <th rowspan=\"5\" valign=\"top\">3139a371-6940-48c7-9545-cb15df8a5a6a</th>\n",
       "      <th rowspan=\"2\" valign=\"top\">-1.000000</th>\n",
       "      <th rowspan=\"2\" valign=\"top\">320</th>\n",
       "      <th>0</th>\n",
       "      <td>371</td>\n",
       "    </tr>\n",
       "    <tr>\n",
       "      <th>1</th>\n",
       "      <td>653</td>\n",
       "    </tr>\n",
       "    <tr>\n",
       "      <th rowspan=\"2\" valign=\"top\">-0.959184</th>\n",
       "      <th rowspan=\"2\" valign=\"top\">320</th>\n",
       "      <th>0</th>\n",
       "      <td>292</td>\n",
       "    </tr>\n",
       "    <tr>\n",
       "      <th>1</th>\n",
       "      <td>732</td>\n",
       "    </tr>\n",
       "    <tr>\n",
       "      <th>-0.918367</th>\n",
       "      <th>320</th>\n",
       "      <th>0</th>\n",
       "      <td>201</td>\n",
       "    </tr>\n",
       "  </tbody>\n",
       "</table>\n",
       "</div>"
      ],
      "text/plain": [
       "                                                               count\n",
       "job_id                               amp       duration state       \n",
       "3139a371-6940-48c7-9545-cb15df8a5a6a -1.000000 320      0        371\n",
       "                                                        1        653\n",
       "                                     -0.959184 320      0        292\n",
       "                                                        1        732\n",
       "                                     -0.918367 320      0        201"
      ]
     },
     "execution_count": 5,
     "metadata": {},
     "output_type": "execute_result"
    }
   ],
   "source": [
    "resultdf(rabi_job.result()).head()"
   ]
  },
  {
   "cell_type": "markdown",
   "id": "731f5b4c-7e0e-4c5e-af3e-9f5d94bb3b97",
   "metadata": {},
   "source": [
    "The job id and circuit metadata (here 'duration' and 'amp') are stored in the dataframe's index. The classified states are stored in the 'state' index level. The 'count' column stores the counts for each state."
   ]
  },
  {
   "cell_type": "markdown",
   "id": "19f4880b-e94a-4c0c-a92a-91f17698d487",
   "metadata": {
    "tags": []
   },
   "source": [
    "### You can also pass `Job` objects directly."
   ]
  },
  {
   "cell_type": "code",
   "execution_count": 6,
   "id": "5b10d816-fc0b-480c-889a-0bd135b83aa8",
   "metadata": {},
   "outputs": [
    {
     "data": {
      "text/html": [
       "<div>\n",
       "<style scoped>\n",
       "    .dataframe tbody tr th:only-of-type {\n",
       "        vertical-align: middle;\n",
       "    }\n",
       "\n",
       "    .dataframe tbody tr th {\n",
       "        vertical-align: top;\n",
       "    }\n",
       "\n",
       "    .dataframe thead th {\n",
       "        text-align: right;\n",
       "    }\n",
       "</style>\n",
       "<table border=\"1\" class=\"dataframe\">\n",
       "  <thead>\n",
       "    <tr style=\"text-align: right;\">\n",
       "      <th></th>\n",
       "      <th></th>\n",
       "      <th></th>\n",
       "      <th></th>\n",
       "      <th>count</th>\n",
       "    </tr>\n",
       "    <tr>\n",
       "      <th>job_id</th>\n",
       "      <th>amp</th>\n",
       "      <th>duration</th>\n",
       "      <th>state</th>\n",
       "      <th></th>\n",
       "    </tr>\n",
       "  </thead>\n",
       "  <tbody>\n",
       "    <tr>\n",
       "      <th rowspan=\"5\" valign=\"top\">3139a371-6940-48c7-9545-cb15df8a5a6a</th>\n",
       "      <th rowspan=\"2\" valign=\"top\">-1.000000</th>\n",
       "      <th rowspan=\"2\" valign=\"top\">320</th>\n",
       "      <th>0</th>\n",
       "      <td>371</td>\n",
       "    </tr>\n",
       "    <tr>\n",
       "      <th>1</th>\n",
       "      <td>653</td>\n",
       "    </tr>\n",
       "    <tr>\n",
       "      <th rowspan=\"2\" valign=\"top\">-0.959184</th>\n",
       "      <th rowspan=\"2\" valign=\"top\">320</th>\n",
       "      <th>0</th>\n",
       "      <td>292</td>\n",
       "    </tr>\n",
       "    <tr>\n",
       "      <th>1</th>\n",
       "      <td>732</td>\n",
       "    </tr>\n",
       "    <tr>\n",
       "      <th>-0.918367</th>\n",
       "      <th>320</th>\n",
       "      <th>0</th>\n",
       "      <td>201</td>\n",
       "    </tr>\n",
       "  </tbody>\n",
       "</table>\n",
       "</div>"
      ],
      "text/plain": [
       "                                                               count\n",
       "job_id                               amp       duration state       \n",
       "3139a371-6940-48c7-9545-cb15df8a5a6a -1.000000 320      0        371\n",
       "                                                        1        653\n",
       "                                     -0.959184 320      0        292\n",
       "                                                        1        732\n",
       "                                     -0.918367 320      0        201"
      ]
     },
     "execution_count": 6,
     "metadata": {},
     "output_type": "execute_result"
    }
   ],
   "source": [
    "resultdf(rabi_job).head()"
   ]
  },
  {
   "cell_type": "markdown",
   "id": "440c16e7-30fa-4577-8853-e770c86f59e0",
   "metadata": {},
   "source": [
    "### `metadata` parameter\n",
    "\n",
    "By default, `resultdf()` automatically determines the metadata to include in the index.\n",
    "Pass `metadata=[...]` to manually specify the relevant fields e.g. just 'amp':"
   ]
  },
  {
   "cell_type": "code",
   "execution_count": 7,
   "id": "325c1f38-a05d-4973-a81b-0dc9917e771b",
   "metadata": {},
   "outputs": [
    {
     "data": {
      "text/html": [
       "<div>\n",
       "<style scoped>\n",
       "    .dataframe tbody tr th:only-of-type {\n",
       "        vertical-align: middle;\n",
       "    }\n",
       "\n",
       "    .dataframe tbody tr th {\n",
       "        vertical-align: top;\n",
       "    }\n",
       "\n",
       "    .dataframe thead th {\n",
       "        text-align: right;\n",
       "    }\n",
       "</style>\n",
       "<table border=\"1\" class=\"dataframe\">\n",
       "  <thead>\n",
       "    <tr style=\"text-align: right;\">\n",
       "      <th></th>\n",
       "      <th></th>\n",
       "      <th></th>\n",
       "      <th>count</th>\n",
       "    </tr>\n",
       "    <tr>\n",
       "      <th>job_id</th>\n",
       "      <th>amp</th>\n",
       "      <th>state</th>\n",
       "      <th></th>\n",
       "    </tr>\n",
       "  </thead>\n",
       "  <tbody>\n",
       "    <tr>\n",
       "      <th rowspan=\"5\" valign=\"top\">3139a371-6940-48c7-9545-cb15df8a5a6a</th>\n",
       "      <th rowspan=\"2\" valign=\"top\">-1.000000</th>\n",
       "      <th>0</th>\n",
       "      <td>371</td>\n",
       "    </tr>\n",
       "    <tr>\n",
       "      <th>1</th>\n",
       "      <td>653</td>\n",
       "    </tr>\n",
       "    <tr>\n",
       "      <th rowspan=\"2\" valign=\"top\">-0.959184</th>\n",
       "      <th>0</th>\n",
       "      <td>292</td>\n",
       "    </tr>\n",
       "    <tr>\n",
       "      <th>1</th>\n",
       "      <td>732</td>\n",
       "    </tr>\n",
       "    <tr>\n",
       "      <th>-0.918367</th>\n",
       "      <th>0</th>\n",
       "      <td>201</td>\n",
       "    </tr>\n",
       "  </tbody>\n",
       "</table>\n",
       "</div>"
      ],
      "text/plain": [
       "                                                      count\n",
       "job_id                               amp       state       \n",
       "3139a371-6940-48c7-9545-cb15df8a5a6a -1.000000 0        371\n",
       "                                               1        653\n",
       "                                     -0.959184 0        292\n",
       "                                               1        732\n",
       "                                     -0.918367 0        201"
      ]
     },
     "execution_count": 7,
     "metadata": {},
     "output_type": "execute_result"
    }
   ],
   "source": [
    "resultdf(rabi_job, metadata=['amp']).head()"
   ]
  },
  {
   "cell_type": "markdown",
   "id": "eeef396e-486f-4db9-84e5-7a4d15809d47",
   "metadata": {},
   "source": [
    "or pass `metadata=False` to ignore metadata"
   ]
  },
  {
   "cell_type": "code",
   "execution_count": 8,
   "id": "6fd88468-e173-4e91-beba-7043e81497f5",
   "metadata": {},
   "outputs": [
    {
     "data": {
      "text/html": [
       "<div>\n",
       "<style scoped>\n",
       "    .dataframe tbody tr th:only-of-type {\n",
       "        vertical-align: middle;\n",
       "    }\n",
       "\n",
       "    .dataframe tbody tr th {\n",
       "        vertical-align: top;\n",
       "    }\n",
       "\n",
       "    .dataframe thead th {\n",
       "        text-align: right;\n",
       "    }\n",
       "</style>\n",
       "<table border=\"1\" class=\"dataframe\">\n",
       "  <thead>\n",
       "    <tr style=\"text-align: right;\">\n",
       "      <th></th>\n",
       "      <th></th>\n",
       "      <th></th>\n",
       "      <th>count</th>\n",
       "    </tr>\n",
       "    <tr>\n",
       "      <th>job_id</th>\n",
       "      <th>circuit</th>\n",
       "      <th>state</th>\n",
       "      <th></th>\n",
       "    </tr>\n",
       "  </thead>\n",
       "  <tbody>\n",
       "    <tr>\n",
       "      <th rowspan=\"5\" valign=\"top\">3139a371-6940-48c7-9545-cb15df8a5a6a</th>\n",
       "      <th rowspan=\"2\" valign=\"top\">circuit-2</th>\n",
       "      <th>0</th>\n",
       "      <td>371</td>\n",
       "    </tr>\n",
       "    <tr>\n",
       "      <th>1</th>\n",
       "      <td>653</td>\n",
       "    </tr>\n",
       "    <tr>\n",
       "      <th rowspan=\"2\" valign=\"top\">circuit-3</th>\n",
       "      <th>0</th>\n",
       "      <td>292</td>\n",
       "    </tr>\n",
       "    <tr>\n",
       "      <th>1</th>\n",
       "      <td>732</td>\n",
       "    </tr>\n",
       "    <tr>\n",
       "      <th>circuit-4</th>\n",
       "      <th>0</th>\n",
       "      <td>201</td>\n",
       "    </tr>\n",
       "  </tbody>\n",
       "</table>\n",
       "</div>"
      ],
      "text/plain": [
       "                                                      count\n",
       "job_id                               circuit   state       \n",
       "3139a371-6940-48c7-9545-cb15df8a5a6a circuit-2 0        371\n",
       "                                               1        653\n",
       "                                     circuit-3 0        292\n",
       "                                               1        732\n",
       "                                     circuit-4 0        201"
      ]
     },
     "execution_count": 8,
     "metadata": {},
     "output_type": "execute_result"
    }
   ],
   "source": [
    "resultdf(rabi_job, metadata=False).head()"
   ]
  },
  {
   "cell_type": "markdown",
   "id": "e322b2e2-e923-4576-9191-d6046d8c58b0",
   "metadata": {
    "tags": []
   },
   "source": [
    "### `drop_extraneous` parameter\n",
    "By default, `resultdf()` will drop useless columns and levels. For example, passing `drop_extraneous=False` in this instance gives"
   ]
  },
  {
   "cell_type": "code",
   "execution_count": 9,
   "id": "635f4035-7cc0-4e28-abc7-d3c264276f3a",
   "metadata": {},
   "outputs": [
    {
     "data": {
      "text/html": [
       "<div>\n",
       "<style scoped>\n",
       "    .dataframe tbody tr th:only-of-type {\n",
       "        vertical-align: middle;\n",
       "    }\n",
       "\n",
       "    .dataframe tbody tr th {\n",
       "        vertical-align: top;\n",
       "    }\n",
       "\n",
       "    .dataframe thead th {\n",
       "        text-align: right;\n",
       "    }\n",
       "</style>\n",
       "<table border=\"1\" class=\"dataframe\">\n",
       "  <thead>\n",
       "    <tr style=\"text-align: right;\">\n",
       "      <th></th>\n",
       "      <th></th>\n",
       "      <th></th>\n",
       "      <th></th>\n",
       "      <th></th>\n",
       "      <th>count</th>\n",
       "      <th>c</th>\n",
       "    </tr>\n",
       "    <tr>\n",
       "      <th>job_id</th>\n",
       "      <th>circuit</th>\n",
       "      <th>amp</th>\n",
       "      <th>duration</th>\n",
       "      <th>state</th>\n",
       "      <th></th>\n",
       "      <th></th>\n",
       "    </tr>\n",
       "  </thead>\n",
       "  <tbody>\n",
       "    <tr>\n",
       "      <th rowspan=\"5\" valign=\"top\">3139a371-6940-48c7-9545-cb15df8a5a6a</th>\n",
       "      <th rowspan=\"2\" valign=\"top\">circuit-2</th>\n",
       "      <th rowspan=\"2\" valign=\"top\">-1.000000</th>\n",
       "      <th rowspan=\"2\" valign=\"top\">320</th>\n",
       "      <th>0</th>\n",
       "      <td>371</td>\n",
       "      <td>0</td>\n",
       "    </tr>\n",
       "    <tr>\n",
       "      <th>1</th>\n",
       "      <td>653</td>\n",
       "      <td>1</td>\n",
       "    </tr>\n",
       "    <tr>\n",
       "      <th rowspan=\"2\" valign=\"top\">circuit-3</th>\n",
       "      <th rowspan=\"2\" valign=\"top\">-0.959184</th>\n",
       "      <th rowspan=\"2\" valign=\"top\">320</th>\n",
       "      <th>0</th>\n",
       "      <td>292</td>\n",
       "      <td>0</td>\n",
       "    </tr>\n",
       "    <tr>\n",
       "      <th>1</th>\n",
       "      <td>732</td>\n",
       "      <td>1</td>\n",
       "    </tr>\n",
       "    <tr>\n",
       "      <th>circuit-4</th>\n",
       "      <th>-0.918367</th>\n",
       "      <th>320</th>\n",
       "      <th>0</th>\n",
       "      <td>201</td>\n",
       "      <td>0</td>\n",
       "    </tr>\n",
       "  </tbody>\n",
       "</table>\n",
       "</div>"
      ],
      "text/plain": [
       "                                                                         count  \\\n",
       "job_id                               circuit   amp       duration state          \n",
       "3139a371-6940-48c7-9545-cb15df8a5a6a circuit-2 -1.000000 320      0        371   \n",
       "                                                                  1        653   \n",
       "                                     circuit-3 -0.959184 320      0        292   \n",
       "                                                                  1        732   \n",
       "                                     circuit-4 -0.918367 320      0        201   \n",
       "\n",
       "                                                                         c  \n",
       "job_id                               circuit   amp       duration state     \n",
       "3139a371-6940-48c7-9545-cb15df8a5a6a circuit-2 -1.000000 320      0      0  \n",
       "                                                                  1      1  \n",
       "                                     circuit-3 -0.959184 320      0      0  \n",
       "                                                                  1      1  \n",
       "                                     circuit-4 -0.918367 320      0      0  "
      ]
     },
     "execution_count": 9,
     "metadata": {},
     "output_type": "execute_result"
    }
   ],
   "source": [
    "resultdf(rabi_job, drop_extraneous=False).head()"
   ]
  },
  {
   "cell_type": "markdown",
   "id": "127dd675-b7d1-4b9b-b344-3a0abeada6a0",
   "metadata": {},
   "source": [
    "The level 'circuit' and column 'c' were dropped.\n",
    "The 'circuit' level is extraneous because each circuit is already uniquely identified by an 'amp'.\n",
    "The 'c' column (representing the value of the 'c' register) is dropped because there is only one register.\n",
    "The register columns are useful when there are multiple registers (see next example)."
   ]
  },
  {
   "cell_type": "markdown",
   "id": "3834ab52-3afc-4214-b790-0d2ce449f895",
   "metadata": {},
   "source": [
    "### Accessing the original result object\n",
    "The original results are stored in the data set's `attrs` dictionary. This is where pandas allows users to store arbitrary data."
   ]
  },
  {
   "cell_type": "code",
   "execution_count": 10,
   "id": "4270cf23-c2f9-47db-a146-ea8f6b67590b",
   "metadata": {},
   "outputs": [
    {
     "name": "stdout",
     "output_type": "stream",
     "text": [
      "[Result(backend_name='fake_armonk', backend_version='2.4.3', qobj_id='3ce5f57b-f393-44e6-a479-6cf196...\n"
     ]
    }
   ],
   "source": [
    "orig_results = resultdf(rabi_job).attrs['results']\n",
    "print(repr(orig_results)[:100] + '...')"
   ]
  },
  {
   "cell_type": "markdown",
   "id": "f193108a-cc3e-45e4-b7bf-ec304c8c1a11",
   "metadata": {},
   "source": [
    "### Plot the results"
   ]
  },
  {
   "cell_type": "code",
   "execution_count": 11,
   "id": "7774fd55-acdd-459f-b28a-95ec2ced1b1a",
   "metadata": {},
   "outputs": [
    {
     "data": {
      "text/plain": [
       "<AxesSubplot:xlabel='amp [a.u.]', ylabel='$|0\\\\rangle$ population'>"
      ]
     },
     "execution_count": 11,
     "metadata": {},
     "output_type": "execute_result"
    },
    {
     "data": {
      "image/png": "[encoded data removed]",
      "text/plain": [
       "<Figure size 432x288 with 1 Axes>"
      ]
     },
     "metadata": {
      "needs_background": "light"
     },
     "output_type": "display_data"
    }
   ],
   "source": [
    "df = resultdf(rabi_job)\n",
    "\n",
    "# Get a cross-section of only the 0 state.\n",
    "data = df.xs(0, level='state')\n",
    "\n",
    "# pandas wrangling.\n",
    "data = data.reset_index()\n",
    "data['pop'] = data['count']/1024\n",
    "\n",
    "data.plot(\n",
    "    x='amp',\n",
    "    y='pop',\n",
    "    kind='scatter',\n",
    "    xlabel='amp [a.u.]',\n",
    "    ylabel=r'$|0\\rangle$ population',\n",
    "    grid=True,\n",
    ")"
   ]
  },
  {
   "cell_type": "markdown",
   "id": "abc48cc4-6355-4647-b911-260b60c7a173",
   "metadata": {},
   "source": [
    "## GHZ example"
   ]
  },
  {
   "cell_type": "code",
   "execution_count": 12,
   "id": "a71edeb1-d2be-4c1e-9f42-38ce77c056a7",
   "metadata": {},
   "outputs": [],
   "source": [
    "from qiskit import Aer\n",
    "simulator = Aer.get_backend('aer_simulator')"
   ]
  },
  {
   "cell_type": "markdown",
   "id": "c2e8ceed-41a3-48f4-87b7-2c2f37f17b30",
   "metadata": {},
   "source": [
    "### Create the circuit"
   ]
  },
  {
   "cell_type": "code",
   "execution_count": 13,
   "id": "b133b77c-ea27-4a2f-9605-c452ce0e7f8f",
   "metadata": {},
   "outputs": [],
   "source": [
    "q1 = QuantumRegister(1)\n",
    "q2 = QuantumRegister(2)\n",
    "c1 = ClassicalRegister(1, 'c1')\n",
    "c2 = ClassicalRegister(2, 'c2')\n",
    "\n",
    "bell = QuantumCircuit(q1, q2, c1, c2)\n",
    "bell.h(q1)\n",
    "bell.cx(q1, q2)\n",
    "\n",
    "bell.measure(q1, c1)\n",
    "bell.measure(q2, c2)\n",
    "\n",
    "simulator = Aer.get_backend('aer_simulator')\n",
    "bell = qiskit.compiler.transpile(bell, simulator)"
   ]
  },
  {
   "cell_type": "markdown",
   "id": "dba314f6-d827-434d-9280-e8c1edf3814d",
   "metadata": {},
   "source": [
    "### Run the circuit"
   ]
  },
  {
   "cell_type": "code",
   "execution_count": 14,
   "id": "9d6582fd-788f-45ca-94d3-6e08daab731a",
   "metadata": {},
   "outputs": [
    {
     "data": {
      "text/html": [
       "<div>\n",
       "<style scoped>\n",
       "    .dataframe tbody tr th:only-of-type {\n",
       "        vertical-align: middle;\n",
       "    }\n",
       "\n",
       "    .dataframe tbody tr th {\n",
       "        vertical-align: top;\n",
       "    }\n",
       "\n",
       "    .dataframe thead th {\n",
       "        text-align: right;\n",
       "    }\n",
       "</style>\n",
       "<table border=\"1\" class=\"dataframe\">\n",
       "  <thead>\n",
       "    <tr style=\"text-align: right;\">\n",
       "      <th></th>\n",
       "      <th></th>\n",
       "      <th>count</th>\n",
       "      <th>c1</th>\n",
       "      <th>c2</th>\n",
       "    </tr>\n",
       "    <tr>\n",
       "      <th>job_id</th>\n",
       "      <th>state</th>\n",
       "      <th></th>\n",
       "      <th></th>\n",
       "      <th></th>\n",
       "    </tr>\n",
       "  </thead>\n",
       "  <tbody>\n",
       "    <tr>\n",
       "      <th rowspan=\"2\" valign=\"top\">418cd678-5dc1-4b97-8bbf-ebc577303c93</th>\n",
       "      <th>0</th>\n",
       "      <td>500</td>\n",
       "      <td>0</td>\n",
       "      <td>0</td>\n",
       "    </tr>\n",
       "    <tr>\n",
       "      <th>7</th>\n",
       "      <td>524</td>\n",
       "      <td>1</td>\n",
       "      <td>3</td>\n",
       "    </tr>\n",
       "  </tbody>\n",
       "</table>\n",
       "</div>"
      ],
      "text/plain": [
       "                                            count  c1  c2\n",
       "job_id                               state               \n",
       "418cd678-5dc1-4b97-8bbf-ebc577303c93 0        500   0   0\n",
       "                                     7        524   1   3"
      ]
     },
     "execution_count": 14,
     "metadata": {},
     "output_type": "execute_result"
    }
   ],
   "source": [
    "ghz_job = simulator.run(bell)\n",
    "df = resultdf(ghz_job)\n",
    "df"
   ]
  },
  {
   "cell_type": "markdown",
   "id": "0e5719d4-09c9-4bb9-a769-25287aa88caa",
   "metadata": {},
   "source": [
    "### Post select on register c1"
   ]
  },
  {
   "cell_type": "code",
   "execution_count": 15,
   "id": "ab138ba6-ed65-48ab-80b6-53f383273da7",
   "metadata": {},
   "outputs": [
    {
     "data": {
      "text/html": [
       "<div>\n",
       "<style scoped>\n",
       "    .dataframe tbody tr th:only-of-type {\n",
       "        vertical-align: middle;\n",
       "    }\n",
       "\n",
       "    .dataframe tbody tr th {\n",
       "        vertical-align: top;\n",
       "    }\n",
       "\n",
       "    .dataframe thead th {\n",
       "        text-align: right;\n",
       "    }\n",
       "</style>\n",
       "<table border=\"1\" class=\"dataframe\">\n",
       "  <thead>\n",
       "    <tr style=\"text-align: right;\">\n",
       "      <th></th>\n",
       "      <th></th>\n",
       "      <th>count</th>\n",
       "      <th>c1</th>\n",
       "      <th>c2</th>\n",
       "    </tr>\n",
       "    <tr>\n",
       "      <th>job_id</th>\n",
       "      <th>state</th>\n",
       "      <th></th>\n",
       "      <th></th>\n",
       "      <th></th>\n",
       "    </tr>\n",
       "  </thead>\n",
       "  <tbody>\n",
       "    <tr>\n",
       "      <th>418cd678-5dc1-4b97-8bbf-ebc577303c93</th>\n",
       "      <th>0</th>\n",
       "      <td>500</td>\n",
       "      <td>0</td>\n",
       "      <td>0</td>\n",
       "    </tr>\n",
       "  </tbody>\n",
       "</table>\n",
       "</div>"
      ],
      "text/plain": [
       "                                            count  c1  c2\n",
       "job_id                               state               \n",
       "418cd678-5dc1-4b97-8bbf-ebc577303c93 0        500   0   0"
      ]
     },
     "execution_count": 15,
     "metadata": {},
     "output_type": "execute_result"
    }
   ],
   "source": [
    "df.query('c1 == 0')"
   ]
  },
  {
   "cell_type": "code",
   "execution_count": 16,
   "id": "8a843b5b-4eec-4ccb-b4d8-ddb9e3ab8d04",
   "metadata": {},
   "outputs": [
    {
     "data": {
      "text/html": [
       "<div>\n",
       "<style scoped>\n",
       "    .dataframe tbody tr th:only-of-type {\n",
       "        vertical-align: middle;\n",
       "    }\n",
       "\n",
       "    .dataframe tbody tr th {\n",
       "        vertical-align: top;\n",
       "    }\n",
       "\n",
       "    .dataframe thead th {\n",
       "        text-align: right;\n",
       "    }\n",
       "</style>\n",
       "<table border=\"1\" class=\"dataframe\">\n",
       "  <thead>\n",
       "    <tr style=\"text-align: right;\">\n",
       "      <th></th>\n",
       "      <th></th>\n",
       "      <th>count</th>\n",
       "      <th>c1</th>\n",
       "      <th>c2</th>\n",
       "    </tr>\n",
       "    <tr>\n",
       "      <th>job_id</th>\n",
       "      <th>state</th>\n",
       "      <th></th>\n",
       "      <th></th>\n",
       "      <th></th>\n",
       "    </tr>\n",
       "  </thead>\n",
       "  <tbody>\n",
       "    <tr>\n",
       "      <th>418cd678-5dc1-4b97-8bbf-ebc577303c93</th>\n",
       "      <th>7</th>\n",
       "      <td>524</td>\n",
       "      <td>1</td>\n",
       "      <td>3</td>\n",
       "    </tr>\n",
       "  </tbody>\n",
       "</table>\n",
       "</div>"
      ],
      "text/plain": [
       "                                            count  c1  c2\n",
       "job_id                               state               \n",
       "418cd678-5dc1-4b97-8bbf-ebc577303c93 7        524   1   3"
      ]
     },
     "execution_count": 16,
     "metadata": {},
     "output_type": "execute_result"
    }
   ],
   "source": [
    "df.query('c1 == 1')"
   ]
  },
  {
   "cell_type": "markdown",
   "id": "d0ab32ef-ec96-44d4-b668-21076a83d704",
   "metadata": {},
   "source": [
    "### Concatenate multiple jobs"
   ]
  },
  {
   "cell_type": "code",
   "execution_count": 17,
   "id": "9d7a26d6-a1d2-4db7-8329-ac17ce7305bc",
   "metadata": {},
   "outputs": [
    {
     "data": {
      "text/html": [
       "<div>\n",
       "<style scoped>\n",
       "    .dataframe tbody tr th:only-of-type {\n",
       "        vertical-align: middle;\n",
       "    }\n",
       "\n",
       "    .dataframe tbody tr th {\n",
       "        vertical-align: top;\n",
       "    }\n",
       "\n",
       "    .dataframe thead th {\n",
       "        text-align: right;\n",
       "    }\n",
       "</style>\n",
       "<table border=\"1\" class=\"dataframe\">\n",
       "  <thead>\n",
       "    <tr style=\"text-align: right;\">\n",
       "      <th></th>\n",
       "      <th></th>\n",
       "      <th>count</th>\n",
       "      <th>c1</th>\n",
       "      <th>c2</th>\n",
       "    </tr>\n",
       "    <tr>\n",
       "      <th>job_id</th>\n",
       "      <th>state</th>\n",
       "      <th></th>\n",
       "      <th></th>\n",
       "      <th></th>\n",
       "    </tr>\n",
       "  </thead>\n",
       "  <tbody>\n",
       "    <tr>\n",
       "      <th rowspan=\"2\" valign=\"top\">418cd678-5dc1-4b97-8bbf-ebc577303c93</th>\n",
       "      <th>0</th>\n",
       "      <td>500</td>\n",
       "      <td>0</td>\n",
       "      <td>0</td>\n",
       "    </tr>\n",
       "    <tr>\n",
       "      <th>7</th>\n",
       "      <td>524</td>\n",
       "      <td>1</td>\n",
       "      <td>3</td>\n",
       "    </tr>\n",
       "    <tr>\n",
       "      <th rowspan=\"2\" valign=\"top\">66d1a0bf-0c77-47fb-a482-17ab81e672b3</th>\n",
       "      <th>7</th>\n",
       "      <td>526</td>\n",
       "      <td>1</td>\n",
       "      <td>3</td>\n",
       "    </tr>\n",
       "    <tr>\n",
       "      <th>0</th>\n",
       "      <td>498</td>\n",
       "      <td>0</td>\n",
       "      <td>0</td>\n",
       "    </tr>\n",
       "  </tbody>\n",
       "</table>\n",
       "</div>"
      ],
      "text/plain": [
       "                                            count  c1  c2\n",
       "job_id                               state               \n",
       "418cd678-5dc1-4b97-8bbf-ebc577303c93 0        500   0   0\n",
       "                                     7        524   1   3\n",
       "66d1a0bf-0c77-47fb-a482-17ab81e672b3 7        526   1   3\n",
       "                                     0        498   0   0"
      ]
     },
     "execution_count": 17,
     "metadata": {},
     "output_type": "execute_result"
    }
   ],
   "source": [
    "# Run another GHZ circuit.\n",
    "ghz_job2 = simulator.run(bell)\n",
    "df = resultdf(ghz_job, ghz_job2)\n",
    "df"
   ]
  },
  {
   "cell_type": "code",
   "execution_count": 18,
   "id": "73eeda3e-0c4d-45fc-8682-e007dc8a50d3",
   "metadata": {},
   "outputs": [
    {
     "data": {
      "text/html": [
       "<div>\n",
       "<style scoped>\n",
       "    .dataframe tbody tr th:only-of-type {\n",
       "        vertical-align: middle;\n",
       "    }\n",
       "\n",
       "    .dataframe tbody tr th {\n",
       "        vertical-align: top;\n",
       "    }\n",
       "\n",
       "    .dataframe thead th {\n",
       "        text-align: right;\n",
       "    }\n",
       "</style>\n",
       "<table border=\"1\" class=\"dataframe\">\n",
       "  <thead>\n",
       "    <tr style=\"text-align: right;\">\n",
       "      <th></th>\n",
       "      <th>count</th>\n",
       "      <th>c1</th>\n",
       "      <th>c2</th>\n",
       "    </tr>\n",
       "    <tr>\n",
       "      <th>state</th>\n",
       "      <th></th>\n",
       "      <th></th>\n",
       "      <th></th>\n",
       "    </tr>\n",
       "  </thead>\n",
       "  <tbody>\n",
       "    <tr>\n",
       "      <th>0</th>\n",
       "      <td>998</td>\n",
       "      <td>0</td>\n",
       "      <td>0</td>\n",
       "    </tr>\n",
       "    <tr>\n",
       "      <th>7</th>\n",
       "      <td>1050</td>\n",
       "      <td>2</td>\n",
       "      <td>6</td>\n",
       "    </tr>\n",
       "  </tbody>\n",
       "</table>\n",
       "</div>"
      ],
      "text/plain": [
       "       count  c1  c2\n",
       "state               \n",
       "0        998   0   0\n",
       "7       1050   2   6"
      ]
     },
     "execution_count": 18,
     "metadata": {},
     "output_type": "execute_result"
    }
   ],
   "source": [
    "df2 = df.droplevel('job_id')\n",
    "df2 = df2.groupby(df2.index).sum()\n",
    "df2"
   ]
  },
  {
   "cell_type": "markdown",
   "id": "81deff84-f096-4ff5-a610-a1a16b455db3",
   "metadata": {},
   "source": [
    "## MeasLevel.KERNELED example\n",
    "The examples so far have dealt with classified measurements. The following gives a `resultdf()` example with kerneled data."
   ]
  },
  {
   "cell_type": "code",
   "execution_count": 19,
   "id": "4f3743a6-62ca-4916-97f7-d92095d108a8",
   "metadata": {},
   "outputs": [],
   "source": [
    "import uuid\n",
    "from qiskit.result import Result\n",
    "\n",
    "# Create a fake Result object containing single-shot kerneled data.\n",
    "# The result is meant to represent measuring all 5 qubits in the |0> state.\n",
    "result = Result.from_dict({\n",
    "    'backend_name': 'acme_lumbridge',\n",
    "    'backend_version': '0.0.1',\n",
    "    'qobj_id': str(uuid.uuid4()),\n",
    "    'job_id': '123456789abcdef',\n",
    "    'success': True,\n",
    "    'results': [\n",
    "        {\n",
    "            'header': {\n",
    "                'name': 'circuit-1',\n",
    "                'metadata': {'fizz': 10, 'buzz': 20},\n",
    "                'memory_slots': 5,\n",
    "                'creg_sizes': [\n",
    "                    ['c0', 3],\n",
    "                    ['c1', 2],\n",
    "                ],\n",
    "                'clbit_labels': (\n",
    "                    [['c0', i] for i in range(3)]\n",
    "                    + [['c1', i] for i in range(2)]\n",
    "                ),\n",
    "            },\n",
    "            'shots': 1024,\n",
    "            'success': True,\n",
    "            'data': {\n",
    "                # Fake (I,Q) data.\n",
    "                'memory': np.random.normal(\n",
    "                    [[-6.480142e+07, -1.572462e+08],\n",
    "                     [-2.600460e+07, -6.162624e+07],\n",
    "                     [-2.725883e+07, -7.046059e+07],\n",
    "                     [-3.571589e+07, -6.477995e+07],\n",
    "                     [-3.088182e+07, -1.017315e+08]],\n",
    "                    [[9.558022e+06],\n",
    "                     [1.167238e+07],\n",
    "                     [1.303486e+07],\n",
    "                     [1.332440e+07],\n",
    "                     [9.971370e+06]],\n",
    "                    size=(1024, 5, 2)\n",
    "                ).tolist(),\n",
    "            },\n",
    "            'meas_level': 1,\n",
    "            'meas_return': 'single',\n",
    "            'status': 'DONE',\n",
    "        }\n",
    "    ],\n",
    "    'date': '2022-01-01T10:10:00.000000',\n",
    "    'status': 'Successful completion',\n",
    "    'header': {},\n",
    "})"
   ]
  },
  {
   "cell_type": "code",
   "execution_count": 20,
   "id": "54ce2c64-9dd6-4dd6-b60a-2093bd05133f",
   "metadata": {},
   "outputs": [
    {
     "data": {
      "text/plain": [
       "job_id           shot  fizz  buzz  creg  bit\n",
       "123456789abcdef  0     10    20    c0    0     -7.041622e+07-1.513835e+08j\n",
       "                                         1     -4.846306e+07-6.425722e+07j\n",
       "                                         2     -1.245725e+07-8.583532e+07j\n",
       "                                   c1    0     -3.039003e+07-6.317987e+07j\n",
       "                                         1     -2.953558e+07-1.185521e+08j\n",
       "                                                           ...            \n",
       "                 1023  10    20    c0    0     -5.908685e+07-1.482073e+08j\n",
       "                                         1     -5.057869e+07-6.632916e+07j\n",
       "                                         2     -4.225385e+07-7.193906e+07j\n",
       "                                   c1    0     -2.732521e+07-8.576400e+07j\n",
       "                                         1     -8.148955e+06-1.106506e+08j\n",
       "Length: 5120, dtype: complex128"
      ]
     },
     "execution_count": 20,
     "metadata": {},
     "output_type": "execute_result"
    }
   ],
   "source": [
    "resultdf(result)"
   ]
  },
  {
   "cell_type": "markdown",
   "id": "3d1db70a-0efb-40f9-bc18-d6fdc451ed8d",
   "metadata": {},
   "source": [
    "`resultdf()` returns a series for kerneled measurements. The complex values are the usual (I, Q) points (I is real and Q is imaginary).\n",
    "The 'creg' and 'bit' levels indicate which register and bit the measurement belongs to.\n",
    "The 'shot' level indicates on which shot the measurement was acquired. Measurements are acquired in time in ascending shot order."
   ]
  },
  {
   "cell_type": "markdown",
   "id": "3aa2911d-456e-4525-8884-d269f1a838d7",
   "metadata": {},
   "source": [
    "### Average over shots\n",
    "You would get the same series if the job was run with `meas_return='avg'`."
   ]
  },
  {
   "cell_type": "code",
   "execution_count": 21,
   "id": "0b46996c-77a0-472a-ae15-55def5a22496",
   "metadata": {},
   "outputs": [
    {
     "data": {
      "text/plain": [
       "job_id           fizz  buzz  creg  bit\n",
       "123456789abcdef  10    20    c0    0     -6.500495e+07-1.565098e+08j\n",
       "                                   1     -2.609155e+07-6.164900e+07j\n",
       "                                   2     -2.735190e+07-7.018283e+07j\n",
       "                             c1    0     -3.574615e+07-6.536866e+07j\n",
       "                                   1     -3.062454e+07-1.020650e+08j\n",
       "dtype: complex128"
      ]
     },
     "execution_count": 21,
     "metadata": {},
     "output_type": "execute_result"
    }
   ],
   "source": [
    "df = resultdf(result)\n",
    "df.groupby(df.index.names.difference(['shot'])).mean()"
   ]
  },
  {
   "cell_type": "markdown",
   "id": "7333007b-4cd9-4c91-be30-0e2807dfabf3",
   "metadata": {},
   "source": [
    "### Plot points for register c0"
   ]
  },
  {
   "cell_type": "code",
   "execution_count": 22,
   "id": "9afd52d4-b4f7-48a0-9c79-bc86854ec702",
   "metadata": {},
   "outputs": [
    {
     "data": {
      "text/plain": [
       "<matplotlib.legend.Legend at 0x7f2cbc8b7400>"
      ]
     },
     "execution_count": 22,
     "metadata": {},
     "output_type": "execute_result"
    },
    {
     "data": {
      "image/png": "[encoded data removed]",
      "text/plain": [
       "<Figure size 432x288 with 1 Axes>"
      ]
     },
     "metadata": {
      "needs_background": "light"
     },
     "output_type": "display_data"
    }
   ],
   "source": [
    "for i in range(3):\n",
    "    df = resultdf(result)\n",
    "    df = df.xs(('c0', i), level=('creg', 'bit'))\n",
    "    plt.scatter(df.values.real, df.values.imag, label=f'bit {i}')\n",
    "\n",
    "plt.gca().set_aspect(1.0)\n",
    "plt.xlabel('I [a.u.]')\n",
    "plt.ylabel('Q [a.u.]')\n",
    "plt.legend()"
   ]
  }
 ],
 "metadata": {
  "kernelspec": {
   "display_name": "Python 3 (ipykernel)",
   "language": "python",
   "name": "python3"
  },
  "language_info": {
   "codemirror_mode": {
    "name": "ipython",
    "version": 3
   },
   "file_extension": ".py",
   "mimetype": "text/x-python",
   "name": "python",
   "nbconvert_exporter": "python",
   "pygments_lexer": "ipython3",
   "version": "3.10.2"
  }
 },
 "nbformat": 4,
 "nbformat_minor": 5
}
